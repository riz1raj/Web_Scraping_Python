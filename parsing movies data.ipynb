{
 "cells": [
  {
   "cell_type": "code",
   "execution_count": 36,
   "metadata": {},
   "outputs": [],
   "source": [
    "import requests\n",
    "req = requests.get('https://www.tretyakovgallery.ru/cinema/')\n",
    "from bs4 import BeautifulSoup\n",
    "import pandas as pd\n",
    "soup = BeautifulSoup(req.text, 'lxml')"
   ]
  },
  {
   "cell_type": "code",
   "execution_count": 40,
   "metadata": {},
   "outputs": [],
   "source": [
    "movie_name = []\n",
    "for row in soup.find_all(class_ = 'event-item__name'):\n",
    "    movie_name.append(row.text)\n",
    "\n",
    "category = []\n",
    "for row in soup.find_all(class_ = 'event-item__type type'):\n",
    "    category.append(row.text)"
   ]
  },
  {
   "cell_type": "code",
   "execution_count": 75,
   "metadata": {},
   "outputs": [],
   "source": [
    "place = []\n",
    "for row in soup.find_all(class_ = 'place__name'):\n",
    "    place.append(row.text)"
   ]
  },
  {
   "cell_type": "code",
   "execution_count": 74,
   "metadata": {},
   "outputs": [],
   "source": [
    "time = []\n",
    "for row in soup.find_all(class_ = 'event-item__time'):\n",
    "    time.append(row.text)"
   ]
  },
  {
   "cell_type": "code",
   "execution_count": 78,
   "metadata": {},
   "outputs": [],
   "source": [
    "movies = pd.DataFrame({'фильм': movie_name, 'тип': category, 'место': place})"
   ]
  },
  {
   "cell_type": "code",
   "execution_count": 116,
   "metadata": {},
   "outputs": [],
   "source": [
    "movies['сеансы'] = time"
   ]
  },
  {
   "cell_type": "code",
   "execution_count": 97,
   "metadata": {},
   "outputs": [],
   "source": [
    "events = soup.find_all(class_ = 'col-md-8 col-sm-8')\n",
    "#print(events[0].find(class_ = 'event-item__type type').get_text())\n",
    "#print(events[0].find(class_ = 'event-item__time').get_text())\n",
    "#print(events[0].find(class_ = 'place__name').get_text())\n",
    "#print(events[0].find(class_ = 'event-item__name').get_text())\n",
    "\n",
    "movie_name = [event.find(class_ = 'event-item__name').get_text() for event in events]\n",
    "movie_type = [event.find(class_ = 'event-item__type type').get_text() for event in events]\n",
    "movie_place = [event.find(class_ = 'place__name').get_text() for event in events]\n",
    "movie_time = [event.find(class_ = 'event-item__time').get_text() for event in events]"
   ]
  },
  {
   "cell_type": "code",
   "execution_count": 108,
   "metadata": {},
   "outputs": [],
   "source": [
    "df = pd.DataFrame(\n",
    "    {\n",
    "        'name': movie_name,\n",
    "        'type': movie_type,\n",
    "        'place': movie_place,\n",
    "        'time': movie_time\n",
    "    })"
   ]
  },
  {
   "cell_type": "code",
   "execution_count": 117,
   "metadata": {},
   "outputs": [],
   "source": [
    "df.to_csv('movies_16_02.csv')"
   ]
  },
  {
   "cell_type": "code",
   "execution_count": null,
   "metadata": {},
   "outputs": [],
   "source": []
  }
 ],
 "metadata": {
  "kernelspec": {
   "display_name": "Python 3",
   "language": "python",
   "name": "python3"
  },
  "language_info": {
   "codemirror_mode": {
    "name": "ipython",
    "version": 3
   },
   "file_extension": ".py",
   "mimetype": "text/x-python",
   "name": "python",
   "nbconvert_exporter": "python",
   "pygments_lexer": "ipython3",
   "version": "3.7.4"
  }
 },
 "nbformat": 4,
 "nbformat_minor": 2
}
