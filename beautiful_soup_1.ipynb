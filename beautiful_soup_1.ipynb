{
 "cells": [
  {
   "cell_type": "code",
   "execution_count": 2,
   "metadata": {},
   "outputs": [],
   "source": [
    "#import libraries\n",
    "from bs4 import BeautifulSoup\n",
    "from urllib.request import Request, urlopen\n",
    "import urllib.request"
   ]
  },
  {
   "cell_type": "code",
   "execution_count": 7,
   "metadata": {},
   "outputs": [],
   "source": [
    "#define the url we want to scrape\n",
    "wiki_url = r\"https://en.wikipedia.org/wiki/Eastern_Front_(World_War_II)\"\n",
    "response_object = urllib.request.urlopen(wiki_url)\n",
    "response_object\n",
    "\n",
    "#creating the soup\n",
    "soup = BeautifulSoup(response_object,'html.parser')"
   ]
  },
  {
   "cell_type": "code",
   "execution_count": 11,
   "metadata": {},
   "outputs": [
    {
     "data": {
      "text/plain": [
       "<a class=\"mw-jump-link\" href=\"#mw-head\">Jump to navigation</a>"
      ]
     },
     "execution_count": 11,
     "metadata": {},
     "output_type": "execute_result"
    }
   ],
   "source": [
    "#find the first instance of an 'a' tag\n",
    "link = soup.find('a', href = True)\n",
    "link"
   ]
  },
  {
   "cell_type": "code",
   "execution_count": 15,
   "metadata": {},
   "outputs": [
    {
     "data": {
      "text/plain": [
       "bs4.element.Tag"
      ]
     },
     "metadata": {},
     "output_type": "display_data"
    },
    {
     "data": {
      "text/plain": [
       "'a'"
      ]
     },
     "metadata": {},
     "output_type": "display_data"
    },
    {
     "data": {
      "text/plain": [
       "{'class': ['mw-jump-link'], 'href': '#mw-head'}"
      ]
     },
     "metadata": {},
     "output_type": "display_data"
    },
    {
     "data": {
      "text/plain": [
       "'#mw-head'"
      ]
     },
     "metadata": {},
     "output_type": "display_data"
    },
    {
     "data": {
      "text/plain": [
       "'Jump to navigation'"
      ]
     },
     "metadata": {},
     "output_type": "display_data"
    }
   ],
   "source": [
    "display(type(link))\n",
    "\n",
    "display(link.name)\n",
    "\n",
    "display(link.attrs)\n",
    "\n",
    "display(link['href'])\n",
    "display(link.text)"
   ]
  },
  {
   "cell_type": "code",
   "execution_count": 26,
   "metadata": {},
   "outputs": [
    {
     "data": {
      "text/plain": [
       "3275"
      ]
     },
     "execution_count": 26,
     "metadata": {},
     "output_type": "execute_result"
    }
   ],
   "source": [
    "#find all the 'a' tags in the document \n",
    "links = soup.find_all('a')\n",
    "links[1]\n",
    "\n",
    "#the length of our result set object\n",
    "len(links)"
   ]
  },
  {
   "cell_type": "markdown",
   "metadata": {},
   "source": [
    "The amount of links on the Wikipage = 3275."
   ]
  },
  {
   "cell_type": "code",
   "execution_count": 31,
   "metadata": {},
   "outputs": [
    {
     "name": "stdout",
     "output_type": "stream",
     "text": [
      "#mw-head\n",
      "#p-search\n",
      "/wiki/Great_Patriotic_War_(term)\n",
      "/wiki/The_Great_Patriotic_War_(The_Americans)\n",
      "/wiki/Patriotic_War_of_1812\n",
      "/wiki/European_theatre_of_World_War_II\n",
      "/wiki/World_War_II\n",
      "/wiki/File:EasternFrontWWIIcolage.png\n",
      "/wiki/Ilyushin_Il-2\n",
      "/wiki/Tiger_I\n"
     ]
    }
   ],
   "source": [
    "#find all the 'a' tags with HREF attribute in the document \n",
    "links = soup.find_all('a', href = True)\n",
    "\n",
    "#loop through the result set\n",
    "for link in links[0:10]:\n",
    "    print(link['href'])\n",
    "    #if link does not have 'title' use try except\n",
    "    try:\n",
    "        print(link['title'])\n",
    "    except:\n",
    "        continue"
   ]
  },
  {
   "cell_type": "code",
   "execution_count": 33,
   "metadata": {},
   "outputs": [],
   "source": [
    "#search for tables & a tags\n",
    "tables_and_a = soup.find_all(['a','table'])"
   ]
  },
  {
   "cell_type": "code",
   "execution_count": null,
   "metadata": {},
   "outputs": [],
   "source": []
  }
 ],
 "metadata": {
  "kernelspec": {
   "display_name": "Python 3",
   "language": "python",
   "name": "python3"
  },
  "language_info": {
   "codemirror_mode": {
    "name": "ipython",
    "version": 3
   },
   "file_extension": ".py",
   "mimetype": "text/x-python",
   "name": "python",
   "nbconvert_exporter": "python",
   "pygments_lexer": "ipython3",
   "version": "3.7.4"
  }
 },
 "nbformat": 4,
 "nbformat_minor": 2
}
